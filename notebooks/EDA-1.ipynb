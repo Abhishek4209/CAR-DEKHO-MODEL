{
 "cells": [
  {
   "cell_type": "code",
   "execution_count": 37,
   "metadata": {},
   "outputs": [],
   "source": [
    "import pyspark"
   ]
  },
  {
   "cell_type": "code",
   "execution_count": 38,
   "metadata": {},
   "outputs": [],
   "source": [
    "from pyspark.sql import SparkSession\n",
    "spark=SparkSession.builder.appName('Cardata').getOrCreate()"
   ]
  },
  {
   "cell_type": "code",
   "execution_count": 39,
   "metadata": {},
   "outputs": [
    {
     "data": {
      "text/html": [
       "\n",
       "            <div>\n",
       "                <p><b>SparkSession - in-memory</b></p>\n",
       "                \n",
       "        <div>\n",
       "            <p><b>SparkContext</b></p>\n",
       "\n",
       "            <p><a href=\"http://192.168.42.112:4040\">Spark UI</a></p>\n",
       "\n",
       "            <dl>\n",
       "              <dt>Version</dt>\n",
       "                <dd><code>v3.5.1</code></dd>\n",
       "              <dt>Master</dt>\n",
       "                <dd><code>local[*]</code></dd>\n",
       "              <dt>AppName</dt>\n",
       "                <dd><code>Cardata</code></dd>\n",
       "            </dl>\n",
       "        </div>\n",
       "        \n",
       "            </div>\n",
       "        "
      ],
      "text/plain": [
       "<pyspark.sql.session.SparkSession at 0x2215f0cbc50>"
      ]
     },
     "execution_count": 39,
     "metadata": {},
     "output_type": "execute_result"
    }
   ],
   "source": [
    "spark"
   ]
  },
  {
   "cell_type": "code",
   "execution_count": 40,
   "metadata": {},
   "outputs": [],
   "source": [
    "df_spark=spark.read.csv(r'D:\\CarDekhoModel\\notebooks\\data\\cardekho_dataset.csv')"
   ]
  },
  {
   "cell_type": "code",
   "execution_count": 41,
   "metadata": {},
   "outputs": [
    {
     "name": "stdout",
     "output_type": "stream",
     "text": [
      "+----+--------------------+-------------+--------+-----------+---------+-----------+---------+-----------------+-------+------+---------+-----+-------------+\n",
      "| _c0|                 _c1|          _c2|     _c3|        _c4|      _c5|        _c6|      _c7|              _c8|    _c9|  _c10|     _c11| _c12|         _c13|\n",
      "+----+--------------------+-------------+--------+-----------+---------+-----------+---------+-----------------+-------+------+---------+-----+-------------+\n",
      "|NULL|            car_name|        brand|   model|vehicle_age|km_driven|seller_type|fuel_type|transmission_type|mileage|engine|max_power|seats|selling_price|\n",
      "|   0|         Maruti Alto|       Maruti|    Alto|          9|   120000| Individual|   Petrol|           Manual|   19.7|   796|     46.3|    5|       120000|\n",
      "|   1|       Hyundai Grand|      Hyundai|   Grand|          5|    20000| Individual|   Petrol|           Manual|   18.9|  1197|       82|    5|       550000|\n",
      "|   2|         Hyundai i20|      Hyundai|     i20|         11|    60000| Individual|   Petrol|           Manual|     17|  1197|       80|    5|       215000|\n",
      "|   3|         Maruti Alto|       Maruti|    Alto|          9|    37000| Individual|   Petrol|           Manual|  20.92|   998|     67.1|    5|       226000|\n",
      "|   4|       Ford Ecosport|         Ford|Ecosport|          6|    30000|     Dealer|   Diesel|           Manual|  22.77|  1498|    98.59|    5|       570000|\n",
      "|   5|      Maruti Wagon R|       Maruti| Wagon R|          8|    35000| Individual|   Petrol|           Manual|   18.9|   998|     67.1|    5|       350000|\n",
      "|   6|         Hyundai i10|      Hyundai|     i10|          8|    40000|     Dealer|   Petrol|           Manual|  20.36|  1197|     78.9|    5|       315000|\n",
      "|   7|      Maruti Wagon R|       Maruti| Wagon R|          3|    17512|     Dealer|   Petrol|           Manual|  20.51|   998|    67.04|    5|       410000|\n",
      "|   8|       Hyundai Venue|      Hyundai|   Venue|          2|    20000| Individual|   Petrol|        Automatic|  18.15|   998|   118.35|    5|      1050000|\n",
      "|  12|        Maruti Swift|       Maruti|   Swift|          4|    28321|     Dealer|   Petrol|           Manual|   16.6|  1197|       85|    5|       511000|\n",
      "|  14|       Hyundai Verna|      Hyundai|   Verna|          8|    65278|     Dealer|   Diesel|           Manual|  22.32|  1582|   126.32|    5|       425000|\n",
      "|  15|      Renault Duster|      Renault|  Duster|          5|    50000| Individual|   Diesel|           Manual|  19.64|  1461|   108.45|    5|       750000|\n",
      "|  16|         Mini Cooper|         Mini|  Cooper|          4|     6000|     Dealer|   Petrol|        Automatic|  14.41|  1998|   189.08|    5|      3250000|\n",
      "|  17|         Maruti Ciaz|       Maruti|    Ciaz|          5|    76000|     Dealer|   Diesel|           Manual|  28.09|  1248|     88.5|    5|       650000|\n",
      "|  18|        Maruti Swift|       Maruti|   Swift|          5|    20000| Individual|   Diesel|           Manual|   25.2|  1248|       74|    5|       627000|\n",
      "|  19|Mercedes-Benz C-C...|Mercedes-Benz| C-Class|          7|    65000|     Dealer|   Diesel|        Automatic|  19.27|  2143|      170|    5|      1425000|\n",
      "|  20|        Maruti Swift|       Maruti|   Swift|          7|    62200|     Dealer|   Diesel|           Manual|   28.4|  1248|       74|    5|       425000|\n",
      "|  21|       Toyota Innova|       Toyota|  Innova|          8|   110000| Individual|   Diesel|           Manual|  12.99|  2494|    100.6|    8|       605000|\n",
      "|  22|       Maruti Baleno|       Maruti|  Baleno|          6|    20000| Individual|   Petrol|           Manual|   21.4|  1197|     83.1|    5|       600000|\n",
      "+----+--------------------+-------------+--------+-----------+---------+-----------+---------+-----------------+-------+------+---------+-----+-------------+\n",
      "only showing top 20 rows\n",
      "\n"
     ]
    }
   ],
   "source": [
    "df_spark.show()"
   ]
  },
  {
   "cell_type": "code",
   "execution_count": 42,
   "metadata": {},
   "outputs": [
    {
     "name": "stdout",
     "output_type": "stream",
     "text": [
      "+----+------------------+----------+-----------+---+------+----------+------+---------+-----+----+------+----+-------+\n",
      "| _c0|               _c1|       _c2|        _c3|_c4|   _c5|       _c6|   _c7|      _c8|  _c9|_c10|  _c11|_c12|   _c13|\n",
      "+----+------------------+----------+-----------+---+------+----------+------+---------+-----+----+------+----+-------+\n",
      "|  18|      Maruti Swift|    Maruti|      Swift|  5| 20000|Individual|Diesel|   Manual| 25.2|1248|    74|   5| 627000|\n",
      "| 208|       Maruti Alto|    Maruti|       Alto|  3| 20000|Individual|Petrol|   Manual|23.95| 998| 67.05|   5| 360000|\n",
      "| 647|       Hyundai i20|   Hyundai|        i20|  6| 67000|    Dealer|Diesel|   Manual|22.54|1396| 88.73|   5| 500000|\n",
      "|1104|       Hyundai i20|   Hyundai|        i20|  2| 15000|    Dealer|Petrol|   Manual| 18.6|1197| 81.86|   5| 620000|\n",
      "|1299|    Maruti Celerio|    Maruti|    Celerio|  2| 10000|Individual|Petrol|   Manual| 23.1| 998| 67.04|   5| 480000|\n",
      "|1525|     Maruti Vitara|    Maruti|     Vitara|  5| 63000|    Dealer|Diesel|   Manual| 24.3|1248|  88.5|   5| 735000|\n",
      "|1648|Maruti Swift Dzire|    Maruti|Swift Dzire|  6| 50000|    Dealer|Petrol|   Manual|   22|1197|  81.8|   5| 490000|\n",
      "|1695|       Hyundai i20|   Hyundai|        i20|  3| 20000|Individual|Petrol|   Manual| 18.6|1197| 81.83|   5| 524000|\n",
      "|2228|    Maruti Wagon R|    Maruti|    Wagon R| 12| 23710|    Dealer|Petrol|   Manual| 18.9| 998|  67.1|   5| 190000|\n",
      "|2364|       Maruti Alto|    Maruti|       Alto|  4| 34153|    Dealer|Petrol|   Manual| 24.7| 796|  47.3|   5| 320000|\n",
      "|2422|   Volkswagen Polo|Volkswagen|       Polo|  3| 22000|    Dealer|Petrol|Automatic|17.21|1197| 103.6|   5| 760000|\n",
      "|2578|     Maruti Vitara|    Maruti|     Vitara|  4| 67000|    Dealer|Diesel|   Manual| 24.3|1248|  88.5|   5| 800000|\n",
      "|2618|       Hyundai i20|   Hyundai|        i20| 11|100000|Individual|Petrol|   Manual|   17|1197|    80|   5| 310000|\n",
      "|3115|     Maruti Ertiga|    Maruti|     Ertiga|  4| 19000|    Dealer|Diesel|   Manual|24.52|1248|  88.5|   7| 875000|\n",
      "|3308|      Renault KWID|   Renault|       KWID|  3| 10000|Individual|Petrol|   Manual|23.01| 999|    67|   5| 350000|\n",
      "|3414|     Toyota Innova|    Toyota|     Innova|  7| 92965|    Dealer|Diesel|   Manual|12.99|2494|100.57|   7|1025000|\n",
      "|3671|         Ford Figo|      Ford|       Figo|  9| 43500|    Dealer|Diesel|   Manual|   20|1399|    68|   5| 310000|\n",
      "|3843|     Maruti Baleno|    Maruti|     Baleno|  4| 21900|    Dealer|Petrol|Automatic|19.56|1197|  81.8|   5| 700000|\n",
      "|3889|      Renault KWID|   Renault|       KWID|  2|  5000|Individual|Petrol|   Manual|25.17| 799|  53.3|   5| 350000|\n",
      "|3959|     Ford Ecosport|      Ford|   Ecosport|  7| 63000|    Dealer|Petrol|   Manual|18.88| 999|123.37|   5| 535000|\n",
      "+----+------------------+----------+-----------+---+------+----------+------+---------+-----+----+------+----+-------+\n",
      "only showing top 20 rows\n",
      "\n"
     ]
    }
   ],
   "source": [
    "df_spark.drop_duplicates().show()"
   ]
  },
  {
   "cell_type": "code",
   "execution_count": 43,
   "metadata": {},
   "outputs": [
    {
     "data": {
      "text/plain": [
       "[('_c0', 'string'),\n",
       " ('_c1', 'string'),\n",
       " ('_c2', 'string'),\n",
       " ('_c3', 'string'),\n",
       " ('_c4', 'string'),\n",
       " ('_c5', 'string'),\n",
       " ('_c6', 'string'),\n",
       " ('_c7', 'string'),\n",
       " ('_c8', 'string'),\n",
       " ('_c9', 'string'),\n",
       " ('_c10', 'string'),\n",
       " ('_c11', 'string'),\n",
       " ('_c12', 'string'),\n",
       " ('_c13', 'string')]"
      ]
     },
     "execution_count": 43,
     "metadata": {},
     "output_type": "execute_result"
    }
   ],
   "source": [
    "df_spark.dtypes"
   ]
  },
  {
   "cell_type": "code",
   "execution_count": 51,
   "metadata": {},
   "outputs": [
    {
     "data": {
      "text/plain": [
       "<bound method DataFrame.approxQuantile of DataFrame[_c0: string, _c1: string, _c2: string, _c3: string, _c4: string, _c5: string, _c6: string, _c7: string, _c8: string, _c9: string, _c10: string, _c11: string, _c12: string, _c13: string]>"
      ]
     },
     "execution_count": 51,
     "metadata": {},
     "output_type": "execute_result"
    }
   ],
   "source": [
    "df_spark.approxQuantile"
   ]
  },
  {
   "cell_type": "code",
   "execution_count": null,
   "metadata": {},
   "outputs": [],
   "source": []
  },
  {
   "cell_type": "code",
   "execution_count": null,
   "metadata": {},
   "outputs": [],
   "source": []
  },
  {
   "cell_type": "code",
   "execution_count": null,
   "metadata": {},
   "outputs": [],
   "source": []
  }
 ],
 "metadata": {
  "kernelspec": {
   "display_name": "Python 3",
   "language": "python",
   "name": "python3"
  },
  "language_info": {
   "codemirror_mode": {
    "name": "ipython",
    "version": 3
   },
   "file_extension": ".py",
   "mimetype": "text/x-python",
   "name": "python",
   "nbconvert_exporter": "python",
   "pygments_lexer": "ipython3",
   "version": "3.11.7"
  }
 },
 "nbformat": 4,
 "nbformat_minor": 2
}
